{
 "cells": [
  {
   "cell_type": "code",
   "execution_count": 13,
   "metadata": {},
   "outputs": [],
   "source": [
    "start_lon=str(72.831353)\n",
    "start_lat=str(18.968835)\n",
    "end_lon=str(77.166284)\n",
    "end_lat=str(28.677697)"
   ]
  },
  {
   "cell_type": "code",
   "execution_count": 14,
   "metadata": {},
   "outputs": [],
   "source": [
    "\n",
    "\n",
    "#import requests\n",
    "#r = requests.get('http://0.0.0.0:5000/route/v1/driving/'+start_lon+','+start_lat+';'+end_lon+','+end_lat+'?alternatives=3&overview=false&steps=true')\n",
    "#route_data=r.json()\n"
   ]
  },
  {
   "cell_type": "code",
   "execution_count": 15,
   "metadata": {},
   "outputs": [],
   "source": [
    "def haversine(lon1, lat1, lon2, lat2):\n",
    "    \"\"\"\n",
    "    Calculate the great circle distance between two points \n",
    "    on the earth (specified in decimal degrees)\n",
    "    \"\"\"\n",
    "    # convert decimal degrees to radians \n",
    "    lon1, lat1, lon2, lat2 = map(radians, [lon1, lat1, lon2, lat2])\n",
    "\n",
    "    # haversine formula \n",
    "    dlon = lon2 - lon1 \n",
    "    dlat = lat2 - lat1 \n",
    "    a = sin(dlat/2)**2 + cos(lat1) * cos(lat2) * sin(dlon/2)**2\n",
    "    c = 2 * asin(sqrt(a)) \n",
    "    r = 6371 # Radius of earth in kilometers. Use 3956 for miles\n",
    "    return c * r"
   ]
  },
  {
   "cell_type": "code",
   "execution_count": 16,
   "metadata": {},
   "outputs": [],
   "source": [
    "# num_routes=len(route_data['routes'])\n",
    "# route_data['routes'][0]['legs'][0]['steps'][0]['intersections'][0]['location'][1]"
   ]
  },
  {
   "cell_type": "code",
   "execution_count": 17,
   "metadata": {},
   "outputs": [],
   "source": [
    "def plan_route_oneway(route_json,lon,lat,end_lon,end_lat):\n",
    "    #assuming only 1 leg\n",
    "    range_left=range_car\n",
    "    route_array=[] #Main list of properly visited nodes\n",
    "    route_array_temp=[] # secondary temp list for storing nodes till next node is confirmed\n",
    "    prev_lat=lat\n",
    "    prev_lon=lon\n",
    "    #last fully charged co ordinates\n",
    "    last_charge_lat=prev_lat \n",
    "    last_charge_lon=prev_lon\n",
    "    \n",
    "    #total number of steps taken\n",
    "    num_steps=len(route_json['legs'][0]['steps'])\n",
    "    \n",
    "    for i in range(0,num_steps):\n",
    "        #this is for number of intersections\n",
    "        num_intersections=len(route_json['legs'][0]['steps'][i]['intersection'])\n",
    "        \n",
    "        for j in range(0,num_intersections):\n",
    "            offset=0#Have to put offset here\n",
    "            #get lat and lon\n",
    "            lat_new=route_json['legs'][0]['steps'][i]['intersection'][j]['location'][1]\n",
    "            lon_new=route_json['legs'][0]['steps'][i]['intersection'][j]['location'][0]\n",
    "            #check for range left after considering offset and prev values\n",
    "            range_left=range_left-(haversine(prev_lon,prev_lat,lon_new,lat_new)+offset)\n",
    "            \n",
    "            #if stations are present in 1 KM radius \n",
    "            # 1.Reset Range Left\n",
    "            # 2.Update last Charge Values\n",
    "            # 3. Add temp values in final route_array and clear temp array\n",
    "            route_array_temp.append(route_json['legs'][0]['steps'][i]['intersection'][j]['location'])\n",
    "            if(stations_present):\n",
    "                range_left=range_car\n",
    "                last_charge_lat=lat_new\n",
    "                last_charge_lon=lon_new\n",
    "                route_array=route_array+route_array_temp\n",
    "                route_array_temp.clear()\n",
    "            \n",
    "            #Update Previous Values for lat lon to be used in next iteration\n",
    "            prev_lat=lat_new\n",
    "            prev_lon=lon_new\n",
    "            \n",
    "            #if no range left and values same as starting values indicating there no possible path\n",
    "            \n",
    "            if(range_left<=0 and last_charge_lat==lat and last_charge_lon==lon):\n",
    "                return None\n",
    "            #if no range left reroute path\n",
    "            elif(range_left<=0):\n",
    "                \n",
    "                r = requests.get('http://0.0.0.0:5000/route/v1/driving/'+last_charge_lon+','+last_charge_lat+';'+end_lon+','+end_lat+'?alternatives=3&overview=false&steps=true')\n",
    "                route_data=r.json()\n",
    "                \n",
    "                num_routes=len(route_data['routes'])\n",
    "                #check for presence of route \n",
    "                route_present=0\n",
    "                \n",
    "                for i in range(0,num_routes):\n",
    "                    route=plan_route_oneway(route_data['routes'][i],prev_lon,prev_lat,end_lon,end_lat)\n",
    "                    \n",
    "                    #since route array is not null it will return some route append it to original route and send ahead\n",
    "                    if(route!=None):\n",
    "                        route_present=1\n",
    "                        route_array=route_array+route\n",
    "                        return route_array\n",
    "                    \n",
    "                #no route is present ahead\n",
    "                if(route_present==0):\n",
    "                    return None\n",
    "                \n",
    "    return route_array"
   ]
  },
  {
   "cell_type": "code",
   "execution_count": 18,
   "metadata": {},
   "outputs": [],
   "source": [
    "def plan_route(start_lon,start_lat,end_lon,end_lat):\n",
    "    r = requests.get('http://0.0.0.0:5000/route/v1/driving/'+start_lon+','+start_lat+';'+end_lon+','+end_lat+'?alternatives=3&overview=false&steps=true')\n",
    "    route_data=r.json()\n",
    "    #number of routes\n",
    "    num_routes=len(route_data['routes'])\n",
    "    #routing array which will be sent\n",
    "    route_arr=[]\n",
    "    \n",
    "    for i in range(0,num_routes):\n",
    "        route_arr.append(plan_route_oneway(route_data['routes'][i],prev_lon,prev_lat,end_lon,end_lat))\n",
    "    return route_arr    \n",
    "    "
   ]
  }
 ],
 "metadata": {
  "kernelspec": {
   "display_name": "Python 3",
   "language": "python",
   "name": "python3"
  },
  "language_info": {
   "codemirror_mode": {
    "name": "ipython",
    "version": 3
   },
   "file_extension": ".py",
   "mimetype": "text/x-python",
   "name": "python",
   "nbconvert_exporter": "python",
   "pygments_lexer": "ipython3",
   "version": "3.6.5"
  }
 },
 "nbformat": 4,
 "nbformat_minor": 2
}
