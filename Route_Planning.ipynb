{
 "cells": [
  {
   "cell_type": "code",
   "execution_count": 30,
   "metadata": {},
   "outputs": [],
   "source": [
    "start_lon=str(72.831353)\n",
    "start_lat=str(18.968835)\n",
    "end_lon=str(77.166284)\n",
    "end_lat=str(28.677697)"
   ]
  },
  {
   "cell_type": "code",
   "execution_count": 31,
   "metadata": {},
   "outputs": [],
   "source": [
    "import requests\n",
    "r = requests.get('http://0.0.0.0:5000/route/v1/driving/'+start_lon+','+start_lat+';'+end_lon+','+end_lat+'?alternatives=3&overview=false&steps=true')\n",
    "route_data=r.json()\n"
   ]
  },
  {
   "cell_type": "code",
   "execution_count": 32,
   "metadata": {},
   "outputs": [],
   "source": [
    "def haversine(lon1, lat1, lon2, lat2):\n",
    "    \"\"\"\n",
    "    Calculate the great circle distance between two points \n",
    "    on the earth (specified in decimal degrees)\n",
    "    \"\"\"\n",
    "    # convert decimal degrees to radians \n",
    "    lon1, lat1, lon2, lat2 = map(radians, [lon1, lat1, lon2, lat2])\n",
    "\n",
    "    # haversine formula \n",
    "    dlon = lon2 - lon1 \n",
    "    dlat = lat2 - lat1 \n",
    "    a = sin(dlat/2)**2 + cos(lat1) * cos(lat2) * sin(dlon/2)**2\n",
    "    c = 2 * asin(sqrt(a)) \n",
    "    r = 6371 # Radius of earth in kilometers. Use 3956 for miles\n",
    "    return c * r"
   ]
  },
  {
   "cell_type": "code",
   "execution_count": 38,
   "metadata": {},
   "outputs": [
    {
     "data": {
      "text/plain": [
       "18.968354"
      ]
     },
     "execution_count": 38,
     "metadata": {},
     "output_type": "execute_result"
    }
   ],
   "source": [
    "num_routes=len(route_data['routes'])\n",
    "route_data['routes'][0]['legs'][0]['steps'][0]['intersections'][0]['location'][1]"
   ]
  },
  {
   "cell_type": "code",
   "execution_count": null,
   "metadata": {},
   "outputs": [],
   "source": [
    "def plan_route_oneway(route_json,prev_lon,_prev_lat):\n",
    "    #assuming only 1 leg\n",
    "    range_left=range_car\n",
    "    route_array=[]\n",
    "    num_steps=len(route_json['legs'][0]['steps'])\n",
    "    for i in range(0,num_steps):\n",
    "        num_intersections=len(route_json['legs'][0]['steps'][i]['intersection'])\n",
    "        for j in range(0,num_intersections):\n",
    "            offset=0#Have to put offset ehere\n",
    "            lat_new=route_json['legs'][0]['steps'][i]['intersection'][j]['location'][1]\n",
    "            lon_new=route_json['legs'][0]['steps'][i]['intersection'][j]['location'][0]\n",
    "            range_left=range_left-(haversine(prev_lon,prev_lat,lon_new,lat_new)+offset)\n",
    "            if(stations_present):\n",
    "                range_left=range_car\n",
    "                last_charge_lat=lat_new\n",
    "                \n",
    "            prev_lat=lat_new\n",
    "            prev_lon=lon_new\n",
    "            route_array.append(route_json['legs'][0]['steps'][i]['intersection'][j]['location'])\n",
    "            if(range_left<=0)\n",
    "                return []"
   ]
  },
  {
   "cell_type": "code",
   "execution_count": null,
   "metadata": {},
   "outputs": [],
   "source": [
    "def plan_route(start_lon,start_lat,end_lon,end_lat):\n",
    "    r = requests.get('http://0.0.0.0:5000/route/v1/driving/'+start_lon+','+start_lat+';'+end_lon+','+end_lat+'?alternatives=3&overview=false&steps=true')\n",
    "    route_data=r.json()\n",
    "    num_routes=len(route_data['routes'])\n",
    "    route_arr=[]\n",
    "    for i in range(0,num_routes):\n",
    "        route_arr.append([])\n",
    "        route_arr[i]+plan_route_oneway(route_data['routes'][i],prev_lon,prev_lat)\n",
    "    return route_arr    \n",
    "    "
   ]
  }
 ],
 "metadata": {
  "kernelspec": {
   "display_name": "Python 3",
   "language": "python",
   "name": "python3"
  },
  "language_info": {
   "codemirror_mode": {
    "name": "ipython",
    "version": 3
   },
   "file_extension": ".py",
   "mimetype": "text/x-python",
   "name": "python",
   "nbconvert_exporter": "python",
   "pygments_lexer": "ipython3",
   "version": "3.6.5"
  }
 },
 "nbformat": 4,
 "nbformat_minor": 2
}
